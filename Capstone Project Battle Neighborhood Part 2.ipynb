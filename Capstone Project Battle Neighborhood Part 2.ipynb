{
    "cells": [
        {
            "metadata": {
                "collapsed": true
            },
            "cell_type": "markdown",
            "source": "# Capstone Project: Battle of the Neighborhoods"
        },
        {
            "metadata": {},
            "cell_type": "markdown",
            "source": "### by Kasey Chang started 2020/02/20"
        },
        {
            "metadata": {},
            "cell_type": "markdown",
            "source": "## Part 1: Defining the problem"
        },
        {
            "metadata": {},
            "cell_type": "markdown",
            "source": "Boba Tea, the sweet tea drink often with tapioca pearls, is very popular with Asian populations. \n\nLet's say you are a boba tea franchise moving into San Franciscoo, and you need to know where to open your stores. You don't want to open one, where there is no one to appreciate it (little or no consumer of boba tea), but you don't want an area where you face heavy competition\n"
        },
        {
            "metadata": {},
            "cell_type": "markdown",
            "source": "### Question: Which neighborhood is good for a boba tea store?\n\nNOTE: In Foursquare it's refered to as \"Bubble Tea Shop\" categoryID 52e81612bcbc57f1066b7a0c"
        },
        {
            "metadata": {},
            "cell_type": "markdown",
            "source": "Which includes the following assumptions\n\n* that people would not go out of their way for boba tea, so the store is near either work or home\n* the neighborhoods that have <=2 boba tea stores are the ones we are looking for\n\n### Refining the question: are there neighbors similar to the neighborhoods that have few boba tea places? \n"
        },
        {
            "metadata": {},
            "cell_type": "markdown",
            "source": "## Part 2: Getting the Data"
        },
        {
            "metadata": {},
            "cell_type": "markdown",
            "source": "It is obvious we will need a definition of what neighborhoods are in San Francisco. However, as it turns out there is no \"definitive\" list of neighborhoods in San Francisco, nor are there official boundaries for many of them. Realtors, city planners, etc. have different definitions. \n\nFor simplicity, ZipCode is used instead, by scraping the table found here:\n\nhttp://www.healthysf.org/bdi/outcomes/zipmap.htm\n\nNOTE: Query a radius around a zipcode is NOT accurate as some zipcode areas are smaller and some are bigger. 94124 is huge, compared to 94108, for example. But it can't be helped. "
        },
        {
            "metadata": {},
            "cell_type": "markdown",
            "source": "Then we will build a map to verify we have the dots where the zipcodes are. Using USZipcodes to get the latlong"
        },
        {
            "metadata": {},
            "cell_type": "markdown",
            "source": "We will query Foursquare for boba places in SF (latlong for center of SF, radius of 9 km as SF is 18 km across)\n\n    _venues/search?ll=37.7749,-122.4194&intent=browse&radius=9000&categoryId=52e81612bcbc57f1066b7a0c&Client_ID=SFBL1D3NELYE2GN5ARPAN1SSEJQDF2R1PYKEJDAGG4MD1EMX&Client_Secret=TSEZSQQU4FE3ZFS5UJDSNFRZZOT53ZHQH4GIAPA01QA0LS3C&Versiondate=20180101_\n\nWe will query Foursquare for radius of 5km of each boba tea places to build their profiles \n\nWe will also plot these neighborhoods on a map to verify them and boba places in each neighborhood"
        },
        {
            "metadata": {},
            "cell_type": "markdown",
            "source": "We will then train a model using those \"boba neighborhood\" profiles \n\nthen use KNN = 3, which hopefully gets us good / bad / ugly neighborhood ratings. "
        },
        {
            "metadata": {},
            "cell_type": "markdown",
            "source": "We will check each cluster to make sure they make sense. "
        },
        {
            "metadata": {},
            "cell_type": "markdown",
            "source": "and finally, we will make a determination analyzing each cluster and how suitable are they to new Boba tea place\n\n"
        },
        {
            "metadata": {},
            "cell_type": "code",
            "source": "",
            "execution_count": null,
            "outputs": []
        }
    ],
    "metadata": {
        "kernelspec": {
            "name": "python3",
            "display_name": "Python 3.6",
            "language": "python"
        },
        "language_info": {
            "name": "python",
            "version": "3.6.9",
            "mimetype": "text/x-python",
            "codemirror_mode": {
                "name": "ipython",
                "version": 3
            },
            "pygments_lexer": "ipython3",
            "nbconvert_exporter": "python",
            "file_extension": ".py"
        }
    },
    "nbformat": 4,
    "nbformat_minor": 1
}